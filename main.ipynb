{
 "cells": [
  {
   "cell_type": "code",
   "execution_count": 1,
   "id": "4e320f4f",
   "metadata": {},
   "outputs": [
    {
     "name": "stderr",
     "output_type": "stream",
     "text": [
      "d:\\Viet-Bao-2025\\MathModel\\JamFormation\\.conda\\Lib\\site-packages\\tqdm\\auto.py:21: TqdmWarning: IProgress not found. Please update jupyter and ipywidgets. See https://ipywidgets.readthedocs.io/en/stable/user_install.html\n",
      "  from .autonotebook import tqdm as notebook_tqdm\n"
     ]
    }
   ],
   "source": [
    "from highway import Highway"
   ]
  },
  {
   "cell_type": "code",
   "execution_count": 2,
   "id": "f8c8b2f0",
   "metadata": {},
   "outputs": [],
   "source": [
    "density = 0.2\n",
    "number_of_vehicles = 500\n",
    "\n",
    "road_length = number_of_vehicles / density"
   ]
  },
  {
   "cell_type": "code",
   "execution_count": 3,
   "id": "8dd86333",
   "metadata": {},
   "outputs": [],
   "source": [
    "one_slowdown = Highway(\n",
    "    density=0.2,\n",
    "    number_of_vehicles=500\n",
    ")\n",
    "\n",
    "one_slowdown.set_sections([\n",
    "    ('normal', 0, road_length * 0.5, 2.0),\n",
    "    ('slowdown', road_length * 0.5, road_length, 1.0)\n",
    "])"
   ]
  },
  {
   "cell_type": "code",
   "execution_count": 4,
   "id": "5c5c1c33",
   "metadata": {},
   "outputs": [
    {
     "name": "stderr",
     "output_type": "stream",
     "text": [
      "  0%|          | 0/100000 [00:00<?, ?it/s]"
     ]
    },
    {
     "name": "stderr",
     "output_type": "stream",
     "text": [
      "100%|██████████| 100000/100000 [01:38<00:00, 1011.34it/s]\n"
     ]
    }
   ],
   "source": [
    "one_slowdown.simulate_till_steady_state()"
   ]
  },
  {
   "cell_type": "code",
   "execution_count": 5,
   "id": "c0751fbc",
   "metadata": {},
   "outputs": [
    {
     "name": "stdout",
     "output_type": "stream",
     "text": [
      "Average headway: 5.00 m\n"
     ]
    }
   ],
   "source": [
    "import numpy as np\n",
    "\n",
    "headways = one_slowdown.get_headways()\n",
    "\n",
    "average_headway = np.mean(headways)\n",
    "average_headway = np.array(average_headway, dtype=float)\n",
    "print(f\"Average headway: {average_headway:.2f} m\")"
   ]
  },
  {
   "cell_type": "code",
   "execution_count": 6,
   "id": "ce64d721",
   "metadata": {},
   "outputs": [
    {
     "name": "stdout",
     "output_type": "stream",
     "text": [
      "0.3999817184916282\n"
     ]
    }
   ],
   "source": [
    "print(one_slowdown.get_current())"
   ]
  },
  {
   "cell_type": "code",
   "execution_count": null,
   "id": "ba4c941e",
   "metadata": {},
   "outputs": [],
   "source": [
    "densities = []\n",
    "currents = []\n",
    "\n",
    "\n",
    "# run simulation for 200 random values of density between 0.0 and 0.8 in parallel, record the density and current\n",
    "for i in range(200):\n",
    "    density = np.random.uniform(0.01, 0.8)\n",
    "    highway = one_slowdown.copy()\n",
    "    highway.density = density\n",
    "    highway.simulate_till_steady_state()\n",
    "    \n",
    "    densities.append(density)\n",
    "    currents.append(highway.get_current())"
   ]
  }
 ],
 "metadata": {
  "kernelspec": {
   "display_name": ".conda",
   "language": "python",
   "name": "python3"
  },
  "language_info": {
   "codemirror_mode": {
    "name": "ipython",
    "version": 3
   },
   "file_extension": ".py",
   "mimetype": "text/x-python",
   "name": "python",
   "nbconvert_exporter": "python",
   "pygments_lexer": "ipython3",
   "version": "3.11.13"
  }
 },
 "nbformat": 4,
 "nbformat_minor": 5
}
